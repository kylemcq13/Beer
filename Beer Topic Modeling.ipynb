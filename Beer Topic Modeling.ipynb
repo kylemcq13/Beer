{
 "cells": [
  {
   "cell_type": "markdown",
   "metadata": {},
   "source": [
    "# Beer Topic Modeling"
   ]
  },
  {
   "cell_type": "code",
   "execution_count": 1,
   "metadata": {},
   "outputs": [
    {
     "name": "stderr",
     "output_type": "stream",
     "text": [
      "C:\\Users\\kylem\\Anaconda3\\lib\\site-packages\\sklearn\\externals\\joblib\\__init__.py:15: FutureWarning: sklearn.externals.joblib is deprecated in 0.21 and will be removed in 0.23. Please import this functionality directly from joblib, which can be installed with: pip install joblib. If this warning is raised when loading pickled models, you may need to re-serialize those models with scikit-learn 0.21+.\n",
      "  warnings.warn(msg, category=FutureWarning)\n",
      "C:\\Users\\kylem\\Anaconda3\\lib\\site-packages\\gensim\\utils.py:1197: UserWarning: detected Windows; aliasing chunkize to chunkize_serial\n",
      "  warnings.warn(\"detected Windows; aliasing chunkize to chunkize_serial\")\n"
     ]
    }
   ],
   "source": [
    "import numpy as np\n",
    "import pandas as pd\n",
    "import matplotlib.pyplot as plt\n",
    "from sklearn.metrics import mean_absolute_error\n",
    "from statsmodels.tools.eval_measures import mse, rmse\n",
    "import seaborn as sns\n",
    "%matplotlib inline\n",
    "from sklearn import neighbors\n",
    "from sklearn.model_selection import cross_val_score\n",
    "from nltk.corpus import stopwords\n",
    "from wordcloud import WordCloud, STOPWORDS\n",
    "import re\n",
    "from nltk import word_tokenize\n",
    "from nltk.stem import WordNetLemmatizer\n",
    "from sklearn.feature_extraction.text import TfidfVectorizer\n",
    "from collections import Counter\n",
    "from pylab import *\n",
    "import nltk\n",
    "from sklearn.feature_extraction.text import CountVectorizer\n",
    "from sklearn.externals import joblib\n",
    "from gensim import corpora\n",
    "from gensim.models.ldamodel import LdaModel\n",
    "from sklearn.decomposition import LatentDirichletAllocation\n",
    "from sklearn.datasets import make_multilabel_classification\n",
    "from sklearn.model_selection import GridSearchCV\n",
    "\n",
    "import warnings\n",
    "warnings.filterwarnings('ignore')"
   ]
  },
  {
   "cell_type": "code",
   "execution_count": 3,
   "metadata": {},
   "outputs": [
    {
     "data": {
      "text/html": [
       "<div>\n",
       "<style scoped>\n",
       "    .dataframe tbody tr th:only-of-type {\n",
       "        vertical-align: middle;\n",
       "    }\n",
       "\n",
       "    .dataframe tbody tr th {\n",
       "        vertical-align: top;\n",
       "    }\n",
       "\n",
       "    .dataframe thead th {\n",
       "        text-align: right;\n",
       "    }\n",
       "</style>\n",
       "<table border=\"1\" class=\"dataframe\">\n",
       "  <thead>\n",
       "    <tr style=\"text-align: right;\">\n",
       "      <th></th>\n",
       "      <th>Unnamed: 0</th>\n",
       "      <th>beer_id</th>\n",
       "      <th>brewery_name</th>\n",
       "      <th>beer_name</th>\n",
       "      <th>lemmatized_text</th>\n",
       "    </tr>\n",
       "  </thead>\n",
       "  <tbody>\n",
       "    <tr>\n",
       "      <th>0</th>\n",
       "      <td>0</td>\n",
       "      <td>5</td>\n",
       "      <td>Abita Brewing Co.</td>\n",
       "      <td>Amber</td>\n",
       "      <td>becoming favorite mine pours dark golden color...</td>\n",
       "    </tr>\n",
       "    <tr>\n",
       "      <th>1</th>\n",
       "      <td>1</td>\n",
       "      <td>6</td>\n",
       "      <td>Abita Brewing Co.</td>\n",
       "      <td>Turbodog</td>\n",
       "      <td>fan dark flavorful ale met mark well started c...</td>\n",
       "    </tr>\n",
       "    <tr>\n",
       "      <th>2</th>\n",
       "      <td>2</td>\n",
       "      <td>7</td>\n",
       "      <td>Abita Brewing Co.</td>\n",
       "      <td>Purple Haze</td>\n",
       "      <td>purple virtually head second finger head dissi...</td>\n",
       "    </tr>\n",
       "    <tr>\n",
       "      <th>3</th>\n",
       "      <td>3</td>\n",
       "      <td>10</td>\n",
       "      <td>Allagash Brewing Company</td>\n",
       "      <td>Dubbel Ale</td>\n",
       "      <td>brown ml bottle corked caged batch bottled acc...</td>\n",
       "    </tr>\n",
       "    <tr>\n",
       "      <th>4</th>\n",
       "      <td>4</td>\n",
       "      <td>17</td>\n",
       "      <td>Widmer Brothers Brewing Company</td>\n",
       "      <td>Widmer Hefeweizen</td>\n",
       "      <td>american style hefe taste delicious every time...</td>\n",
       "    </tr>\n",
       "  </tbody>\n",
       "</table>\n",
       "</div>"
      ],
      "text/plain": [
       "   Unnamed: 0  beer_id                     brewery_name          beer_name  \\\n",
       "0           0        5                Abita Brewing Co.              Amber   \n",
       "1           1        6                Abita Brewing Co.           Turbodog   \n",
       "2           2        7                Abita Brewing Co.        Purple Haze   \n",
       "3           3       10         Allagash Brewing Company         Dubbel Ale   \n",
       "4           4       17  Widmer Brothers Brewing Company  Widmer Hefeweizen   \n",
       "\n",
       "                                     lemmatized_text  \n",
       "0  becoming favorite mine pours dark golden color...  \n",
       "1  fan dark flavorful ale met mark well started c...  \n",
       "2  purple virtually head second finger head dissi...  \n",
       "3  brown ml bottle corked caged batch bottled acc...  \n",
       "4  american style hefe taste delicious every time...  "
      ]
     },
     "execution_count": 3,
     "metadata": {},
     "output_type": "execute_result"
    }
   ],
   "source": [
    "#import the beer data\n",
    "beer_200_text = pd.read_csv(r'F:\\Datasets\\beer_200_text.csv')\n",
    "\n",
    "#preview the dataset\n",
    "beer_200_text.head()"
   ]
  },
  {
   "cell_type": "code",
   "execution_count": 4,
   "metadata": {},
   "outputs": [
    {
     "data": {
      "text/plain": [
       "(1630, 5)"
      ]
     },
     "execution_count": 4,
     "metadata": {},
     "output_type": "execute_result"
    }
   ],
   "source": [
    "beer_200_text.shape"
   ]
  },
  {
   "cell_type": "markdown",
   "metadata": {},
   "source": [
    "The objective here is to run the cleaned review text through an LDA algorithm to cluster the text review data. I'm assuming the topics will be mostly separated by flavor descriptors such as \"citrusy\", \"hoppy\", or \"roasty\" so I'm guessing LDA shouldn't have too hard of a time separating the text. For this exercise, I plan on utilizing Gensim's library."
   ]
  },
  {
   "cell_type": "markdown",
   "metadata": {},
   "source": [
    "## Gensim"
   ]
  },
  {
   "cell_type": "code",
   "execution_count": 3,
   "metadata": {
    "scrolled": true
   },
   "outputs": [],
   "source": [
    "#preprocess the data\n",
    "from gensim.parsing.preprocessing import preprocess_string\n",
    "us_reviews = beer_200_text.lemmatized_text.apply(preprocess_string).tolist()"
   ]
  },
  {
   "cell_type": "code",
   "execution_count": 4,
   "metadata": {},
   "outputs": [],
   "source": [
    "#define variables\n",
    "from gensim import corpora\n",
    "from gensim.models.ldamodel import LdaModel\n",
    "\n",
    "dictionary = corpora.Dictionary(us_reviews) \n",
    "corpus = [dictionary.doc2bow(lemmatized_text) for lemmatized_text in us_reviews]"
   ]
  },
  {
   "cell_type": "code",
   "execution_count": 7,
   "metadata": {},
   "outputs": [],
   "source": [
    "#fit the model\n",
    "NUM_TOPICS = 20\n",
    "ldamodel = LdaModel(corpus, \n",
    "                    num_topics = NUM_TOPICS, \n",
    "                    id2word=dictionary, passes=10,\n",
    "                    random_state=13) "
   ]
  },
  {
   "cell_type": "code",
   "execution_count": 12,
   "metadata": {},
   "outputs": [
    {
     "data": {
      "text/plain": [
       "['ldamodel20.pkl']"
      ]
     },
     "execution_count": 12,
     "metadata": {},
     "output_type": "execute_result"
    }
   ],
   "source": [
    "from sklearn.externals import joblib\n",
    "\n",
    "joblib.dump(ldamodel, 'ldamodel20.pkl')"
   ]
  },
  {
   "cell_type": "code",
   "execution_count": 16,
   "metadata": {},
   "outputs": [
    {
     "data": {
      "text/plain": [
       "[(0,\n",
       "  '0.020*\"sour\" + 0.017*\"tart\" + 0.014*\"cherri\" + 0.013*\"head\" + 0.013*\"like\"'),\n",
       " (1,\n",
       "  '0.018*\"spice\" + 0.016*\"head\" + 0.016*\"pumpkin\" + 0.016*\"tast\" + 0.013*\"flavor\"'),\n",
       " (2,\n",
       "  '0.018*\"vanilla\" + 0.018*\"sweet\" + 0.015*\"tast\" + 0.014*\"head\" + 0.013*\"flavor\"'),\n",
       " (3,\n",
       "  '0.041*\"hop\" + 0.020*\"malt\" + 0.018*\"head\" + 0.018*\"nice\" + 0.015*\"tast\"'),\n",
       " (4,\n",
       "  '0.026*\"hop\" + 0.019*\"ipa\" + 0.017*\"bitter\" + 0.016*\"citru\" + 0.014*\"head\"'),\n",
       " (5,\n",
       "  '0.009*\"head\" + 0.008*\"hop\" + 0.008*\"tast\" + 0.006*\"flavor\" + 0.006*\"sweet\"'),\n",
       " (6,\n",
       "  '0.022*\"sweet\" + 0.018*\"malt\" + 0.015*\"alcohol\" + 0.015*\"hop\" + 0.015*\"head\"'),\n",
       " (7,\n",
       "  '0.021*\"brown\" + 0.019*\"dark\" + 0.018*\"sweet\" + 0.017*\"head\" + 0.015*\"alcohol\"'),\n",
       " (8,\n",
       "  '0.024*\"light\" + 0.022*\"tast\" + 0.016*\"head\" + 0.015*\"like\" + 0.013*\"smell\"'),\n",
       " (9,\n",
       "  '0.018*\"honei\" + 0.018*\"like\" + 0.016*\"sweet\" + 0.014*\"tast\" + 0.014*\"head\"'),\n",
       " (10,\n",
       "  '0.012*\"hop\" + 0.012*\"tast\" + 0.010*\"malt\" + 0.010*\"like\" + 0.009*\"flavor\"'),\n",
       " (11,\n",
       "  '0.028*\"chocol\" + 0.025*\"coffe\" + 0.022*\"dark\" + 0.019*\"roast\" + 0.017*\"head\"'),\n",
       " (12,\n",
       "  '0.026*\"malt\" + 0.019*\"head\" + 0.017*\"tast\" + 0.015*\"hop\" + 0.015*\"caramel\"'),\n",
       " (13,\n",
       "  '0.023*\"wheat\" + 0.017*\"head\" + 0.017*\"tast\" + 0.013*\"light\" + 0.013*\"flavor\"'),\n",
       " (14,\n",
       "  '0.035*\"hop\" + 0.014*\"sweet\" + 0.014*\"head\" + 0.014*\"malt\" + 0.014*\"bitter\"'),\n",
       " (15,\n",
       "  '0.023*\"pepper\" + 0.021*\"heat\" + 0.020*\"habanero\" + 0.012*\"sculpin\" + 0.011*\"spici\"'),\n",
       " (16,\n",
       "  '0.015*\"lime\" + 0.012*\"tast\" + 0.012*\"head\" + 0.011*\"salt\" + 0.011*\"sweet\"'),\n",
       " (17,\n",
       "  '0.067*\"smoke\" + 0.023*\"smoki\" + 0.016*\"porter\" + 0.015*\"malt\" + 0.013*\"head\"'),\n",
       " (18,\n",
       "  '0.028*\"bourbon\" + 0.020*\"vanilla\" + 0.016*\"oak\" + 0.015*\"dark\" + 0.013*\"chocol\"'),\n",
       " (19,\n",
       "  '0.011*\"curri\" + 0.009*\"head\" + 0.008*\"flavor\" + 0.007*\"like\" + 0.007*\"tast\"')]"
      ]
     },
     "execution_count": 16,
     "metadata": {},
     "output_type": "execute_result"
    }
   ],
   "source": [
    "#print the topics, five words per topic\n",
    "ldamodel.print_topics(num_words=5)"
   ]
  },
  {
   "cell_type": "markdown",
   "metadata": {},
   "source": [
    "We can see some clear, separated topics, as per below:\n",
    "\n",
    "- 0: Sour, tart and cherri - this describes the sour ale group.\n",
    "- 1: Fall and/or pumpkin beers, could be seasonals in general.\n",
    "- 2: The only term here that stands out is Vanilla. Vanilla is rather common in the beer industry so it's tough to distinguish here.\n",
    "- 4: Bitter beers like IPA's, juicier hops\n",
    "- 7: This could be any of the brown or amber ales. The darker malts lend more sweetness to beers.\n",
    "- 11: Stouts, porters, dark ales\n",
    "- 13: Wheat beers, very popular style throughout the world\n",
    "- 15: This one is unique, obviously it's a flavored topic but it's very pepper heavy, even with habanero as one of the words.\n",
    "- 16: Lime and salt tell me this could be a Mexican Lager category or some other light, tropical vibes style\n",
    "- 17: Smoke and porter make me think this is another dark ale topic.\n",
    "- 18: Barrel aged ales - bourbon, oak and vanilla are common descriptors of barrel aged beers, which sit in used bourbon barrels for months, or even years at a time.\n",
    "\n",
    "Let's check out the coherence scores to see if we can determine an optimal number of topics for the model."
   ]
  },
  {
   "cell_type": "code",
   "execution_count": 7,
   "metadata": {},
   "outputs": [],
   "source": [
    "#define a function to calculate coherence scores of the ldamodel\n",
    "from gensim.models.coherencemodel import CoherenceModel\n",
    "def calculate_coherence_score(documents, dictionary, model):\n",
    "    coherence_model = CoherenceModel(model=model, \n",
    "                                     texts=documents, \n",
    "                                     dictionary=dictionary, \n",
    "                                     coherence='c_v')\n",
    "    return coherence_model.get_coherence()\n",
    "def get_coherence_values(start, stop):\n",
    "    for num_topics in range(start, stop):\n",
    "        print(f'\\nCalculating coherence for {num_topics} topics')\n",
    "        ldamodel = LdaModel(corpus, \n",
    "                    num_topics = num_topics, \n",
    "                    id2word=dictionary, passes=3)\n",
    "        coherence = calculate_coherence_score(us_reviews, \n",
    "                                              dictionary, \n",
    "                                              ldamodel)\n",
    "        yield coherence"
   ]
  },
  {
   "cell_type": "code",
   "execution_count": 8,
   "metadata": {},
   "outputs": [
    {
     "name": "stdout",
     "output_type": "stream",
     "text": [
      "\n",
      "Calculating coherence for 2 topics\n",
      "\n",
      "Calculating coherence for 3 topics\n",
      "\n",
      "Calculating coherence for 4 topics\n",
      "\n",
      "Calculating coherence for 5 topics\n",
      "\n",
      "Calculating coherence for 6 topics\n",
      "\n",
      "Calculating coherence for 7 topics\n",
      "\n",
      "Calculating coherence for 8 topics\n",
      "\n",
      "Calculating coherence for 9 topics\n",
      "\n",
      "Calculating coherence for 10 topics\n",
      "\n",
      "Calculating coherence for 11 topics\n",
      "\n",
      "Calculating coherence for 12 topics\n",
      "\n",
      "Calculating coherence for 13 topics\n",
      "\n",
      "Calculating coherence for 14 topics\n",
      "\n",
      "Calculating coherence for 15 topics\n",
      "\n",
      "Calculating coherence for 16 topics\n",
      "\n",
      "Calculating coherence for 17 topics\n",
      "\n",
      "Calculating coherence for 18 topics\n",
      "\n",
      "Calculating coherence for 19 topics\n",
      "\n",
      "Calculating coherence for 20 topics\n"
     ]
    }
   ],
   "source": [
    "#run the function, collect coherence scores for varying topic numbers\n",
    "min_topics, max_topics = 2,21\n",
    "coherence_scores = list(get_coherence_values(min_topics, max_topics)) "
   ]
  },
  {
   "cell_type": "markdown",
   "metadata": {},
   "source": [
    "... four days later."
   ]
  },
  {
   "cell_type": "code",
   "execution_count": 9,
   "metadata": {},
   "outputs": [
    {
     "data": {
      "image/png": "[encoded data removed]",
      "text/plain": [
       "<Figure size 720x576 with 1 Axes>"
      ]
     },
     "metadata": {
      "needs_background": "light"
     },
     "output_type": "display_data"
    }
   ],
   "source": [
    "#plot the coherence scores against numer of topics\n",
    "import matplotlib.pyplot as plt\n",
    "import matplotlib.style as style\n",
    "from matplotlib.ticker import MaxNLocator\n",
    "\n",
    "style.use('fivethirtyeight')\n",
    "%matplotlib inline\n",
    "x = [int(i) for i in range(min_topics, max_topics)]\n",
    "ax = plt.figure(figsize=(10,8))\n",
    "plt.xticks(x)\n",
    "plt.plot(x, coherence_scores)\n",
    "plt.xlabel('Number of topics')\n",
    "plt.ylabel('Coherence Value')\n",
    "plt.title('Coherence Scores', fontsize=10)\n",
    "\n",
    "plt.show()"
   ]
  },
  {
   "cell_type": "markdown",
   "metadata": {},
   "source": [
    "Based on our coherence score visualization, 11 topics is the optimum number but all of these scores are fairly close to one another. Let's try a couple models varying n_topics to see how it separates the text. "
   ]
  },
  {
   "cell_type": "code",
   "execution_count": 5,
   "metadata": {},
   "outputs": [],
   "source": [
    "#fit lda model with 11 topics\n",
    "NUM_TOPICS = 11\n",
    "ldamodel_final = LdaModel(corpus, \n",
    "                    num_topics = NUM_TOPICS, \n",
    "                    id2word=dictionary, passes=10,\n",
    "                   random_state=13) "
   ]
  },
  {
   "cell_type": "code",
   "execution_count": 10,
   "metadata": {},
   "outputs": [
    {
     "data": {
      "text/plain": [
       "[(0,\n",
       "  '0.017*\"sour\" + 0.015*\"tart\" + 0.014*\"cherri\" + 0.013*\"like\" + 0.013*\"sweet\"'),\n",
       " (1,\n",
       "  '0.016*\"head\" + 0.016*\"tast\" + 0.014*\"spice\" + 0.013*\"flavor\" + 0.013*\"nice\"'),\n",
       " (2,\n",
       "  '0.024*\"coffe\" + 0.017*\"chocol\" + 0.015*\"dark\" + 0.014*\"bourbon\" + 0.014*\"head\"'),\n",
       " (3,\n",
       "  '0.041*\"hop\" + 0.021*\"malt\" + 0.018*\"head\" + 0.017*\"nice\" + 0.015*\"tast\"'),\n",
       " (4,\n",
       "  '0.028*\"hop\" + 0.016*\"bitter\" + 0.015*\"ipa\" + 0.015*\"citru\" + 0.014*\"head\"'),\n",
       " (5,\n",
       "  '0.008*\"head\" + 0.007*\"hop\" + 0.007*\"tast\" + 0.006*\"flavor\" + 0.005*\"malt\"'),\n",
       " (6,\n",
       "  '0.021*\"sweet\" + 0.019*\"malt\" + 0.016*\"caramel\" + 0.016*\"head\" + 0.015*\"brown\"'),\n",
       " (7,\n",
       "  '0.025*\"chocol\" + 0.023*\"dark\" + 0.017*\"head\" + 0.017*\"roast\" + 0.016*\"malt\"'),\n",
       " (8,\n",
       "  '0.023*\"light\" + 0.021*\"tast\" + 0.017*\"head\" + 0.014*\"like\" + 0.013*\"malt\"'),\n",
       " (9,\n",
       "  '0.015*\"like\" + 0.015*\"head\" + 0.014*\"flavor\" + 0.013*\"tast\" + 0.012*\"sweet\"'),\n",
       " (10,\n",
       "  '0.064*\"rye\" + 0.019*\"hop\" + 0.016*\"malt\" + 0.012*\"tast\" + 0.010*\"flavor\"')]"
      ]
     },
     "execution_count": 10,
     "metadata": {},
     "output_type": "execute_result"
    }
   ],
   "source": [
    "ldamodel_final.print_topics(num_words=5)"
   ]
  },
  {
   "cell_type": "markdown",
   "metadata": {},
   "source": [
    "- 0: Sours group\n",
    "- 1: Spice could mean a few things - heat or spice. And if it refers to spice, it could be a descriptor for Belgian yeast or actual spice addition. \n",
    "- 2: Dark ales group, think roasty stouts\n",
    "- 3: Generic\n",
    "- 4: IPA group - citrus, ipa, bitter and hop.\n",
    "- 5: Generic\n",
    "- 6: Brown ales group, possibly amber ales or any style heavy on caramel malts\n",
    "- 7: Roasty stouts\n",
    "- 8: Light could possibly be a light ale or lager category\n",
    "- 9: Generic\n",
    "- 10: Rye ales\n",
    "\n",
    "Again, the model did pretty well. It seems to differentiate between dark and lighter ales pretty well but there are still some questionable groups. Let's try another amount of topics and visualize."
   ]
  },
  {
   "cell_type": "code",
   "execution_count": 42,
   "metadata": {},
   "outputs": [
    {
     "name": "stdout",
     "output_type": "stream",
     "text": [
      "Perplexity:  -6.811303528442023\n"
     ]
    }
   ],
   "source": [
    "print('Perplexity: ', ldamodel.log_perplexity(corpus))"
   ]
  },
  {
   "cell_type": "code",
   "execution_count": 6,
   "metadata": {
    "collapsed": true
   },
   "outputs": [
    {
     "ename": "MemoryError",
     "evalue": "",
     "output_type": "error",
     "traceback": [
      "\u001b[1;31m---------------------------------------------------------------------------\u001b[0m",
      "\u001b[1;31m_RemoteTraceback\u001b[0m                          Traceback (most recent call last)",
      "\u001b[1;31m_RemoteTraceback\u001b[0m: \n\"\"\"\nTraceback (most recent call last):\n  File \"C:\\Users\\kylem\\Anaconda3\\lib\\site-packages\\joblib\\externals\\loky\\process_executor.py\", line 418, in _process_worker\n    r = call_item()\n  File \"C:\\Users\\kylem\\Anaconda3\\lib\\site-packages\\joblib\\externals\\loky\\process_executor.py\", line 272, in __call__\n    return self.fn(*self.args, **self.kwargs)\n  File \"C:\\Users\\kylem\\Anaconda3\\lib\\site-packages\\joblib\\_parallel_backends.py\", line 608, in __call__\n    return self.func(*args, **kwargs)\n  File \"C:\\Users\\kylem\\Anaconda3\\lib\\site-packages\\joblib\\parallel.py\", line 256, in __call__\n    for func, args, kwargs in self.items]\n  File \"C:\\Users\\kylem\\Anaconda3\\lib\\site-packages\\joblib\\parallel.py\", line 256, in <listcomp>\n    for func, args, kwargs in self.items]\n  File \"C:\\Users\\kylem\\Anaconda3\\lib\\site-packages\\pyLDAvis\\_prepare.py\", line 213, in _find_relevance_chunks\n    return pd.concat([_find_relevance(log_ttd, log_lift, R, l) for l in lambda_seq])\n  File \"C:\\Users\\kylem\\Anaconda3\\lib\\site-packages\\pyLDAvis\\_prepare.py\", line 213, in <listcomp>\n    return pd.concat([_find_relevance(log_ttd, log_lift, R, l) for l in lambda_seq])\n  File \"C:\\Users\\kylem\\Anaconda3\\lib\\site-packages\\pyLDAvis\\_prepare.py\", line 208, in _find_relevance\n    relevance = lambda_ * log_ttd + (1 - lambda_) * log_lift\n  File \"C:\\Users\\kylem\\Anaconda3\\lib\\site-packages\\pandas\\core\\ops.py\", line 2036, in f\n    return self._combine_const(other, op)\n  File \"C:\\Users\\kylem\\Anaconda3\\lib\\site-packages\\pandas\\core\\frame.py\", line 5120, in _combine_const\n    return ops.dispatch_to_series(self, other, func)\n  File \"C:\\Users\\kylem\\Anaconda3\\lib\\site-packages\\pandas\\core\\ops.py\", line 1157, in dispatch_to_series\n    new_data = expressions.evaluate(column_op, str_rep, left, right)\n  File \"C:\\Users\\kylem\\Anaconda3\\lib\\site-packages\\pandas\\core\\computation\\expressions.py\", line 208, in evaluate\n    return _evaluate(op, op_str, a, b, **eval_kwargs)\n  File \"C:\\Users\\kylem\\Anaconda3\\lib\\site-packages\\pandas\\core\\computation\\expressions.py\", line 123, in _evaluate_numexpr\n    result = _evaluate_standard(op, op_str, a, b)\n  File \"C:\\Users\\kylem\\Anaconda3\\lib\\site-packages\\pandas\\core\\computation\\expressions.py\", line 68, in _evaluate_standard\n    return op(a, b)\n  File \"C:\\Users\\kylem\\Anaconda3\\lib\\site-packages\\pandas\\core\\ops.py\", line 1128, in column_op\n    for i in range(len(a.columns))}\n  File \"C:\\Users\\kylem\\Anaconda3\\lib\\site-packages\\pandas\\core\\ops.py\", line 1128, in <dictcomp>\n    for i in range(len(a.columns))}\n  File \"C:\\Users\\kylem\\Anaconda3\\lib\\site-packages\\pandas\\core\\ops.py\", line 152, in rmul\n    return right * left\n  File \"C:\\Users\\kylem\\Anaconda3\\lib\\site-packages\\pandas\\core\\ops.py\", line 1585, in wrapper\n    index=left.index, name=res_name, dtype=None)\n  File \"C:\\Users\\kylem\\Anaconda3\\lib\\site-packages\\pandas\\core\\ops.py\", line 1474, in _construct_result\n    out = left._constructor(result, index=index, dtype=dtype)\n  File \"C:\\Users\\kylem\\Anaconda3\\lib\\site-packages\\pandas\\core\\series.py\", line 262, in __init__\n    raise_cast_failure=True)\n  File \"C:\\Users\\kylem\\Anaconda3\\lib\\site-packages\\pandas\\core\\internals\\construction.py\", line 582, in sanitize_array\n    subarr = _try_cast(data, True, dtype, copy, raise_cast_failure)\n  File \"C:\\Users\\kylem\\Anaconda3\\lib\\site-packages\\pandas\\core\\internals\\construction.py\", line 688, in _try_cast\n    if maybe_castable(arr) and not copy and dtype is None:\n  File \"C:\\Users\\kylem\\Anaconda3\\lib\\site-packages\\pandas\\core\\dtypes\\cast.py\", line 843, in maybe_castable\n    return arr.dtype.name not in _POSSIBLY_CAST_DTYPES\nMemoryError\n\"\"\"",
      "\nThe above exception was the direct cause of the following exception:\n",
      "\u001b[1;31mMemoryError\u001b[0m                               Traceback (most recent call last)",
      "\u001b[1;32m<ipython-input-6-b0c75931ea24>\u001b[0m in \u001b[0;36m<module>\u001b[1;34m\u001b[0m\n\u001b[0;32m      5\u001b[0m \u001b[1;33m\u001b[0m\u001b[0m\n\u001b[0;32m      6\u001b[0m \u001b[0mpyLDAvis\u001b[0m\u001b[1;33m.\u001b[0m\u001b[0menable_notebook\u001b[0m\u001b[1;33m(\u001b[0m\u001b[1;33m)\u001b[0m\u001b[1;33m\u001b[0m\u001b[1;33m\u001b[0m\u001b[0m\n\u001b[1;32m----> 7\u001b[1;33m \u001b[0mpyLDAvis\u001b[0m\u001b[1;33m.\u001b[0m\u001b[0mgensim\u001b[0m\u001b[1;33m.\u001b[0m\u001b[0mprepare\u001b[0m\u001b[1;33m(\u001b[0m\u001b[0mldamodel_final\u001b[0m\u001b[1;33m,\u001b[0m \u001b[0mcorpus\u001b[0m\u001b[1;33m,\u001b[0m \u001b[0mdictionary\u001b[0m\u001b[1;33m)\u001b[0m\u001b[1;33m\u001b[0m\u001b[1;33m\u001b[0m\u001b[0m\n\u001b[0m",
      "\u001b[1;32m~\\Anaconda3\\lib\\site-packages\\pyLDAvis\\gensim.py\u001b[0m in \u001b[0;36mprepare\u001b[1;34m(topic_model, corpus, dictionary, doc_topic_dist, **kwargs)\u001b[0m\n\u001b[0;32m    117\u001b[0m     \"\"\"\n\u001b[0;32m    118\u001b[0m     \u001b[0mopts\u001b[0m \u001b[1;33m=\u001b[0m \u001b[0mfp\u001b[0m\u001b[1;33m.\u001b[0m\u001b[0mmerge\u001b[0m\u001b[1;33m(\u001b[0m\u001b[0m_extract_data\u001b[0m\u001b[1;33m(\u001b[0m\u001b[0mtopic_model\u001b[0m\u001b[1;33m,\u001b[0m \u001b[0mcorpus\u001b[0m\u001b[1;33m,\u001b[0m \u001b[0mdictionary\u001b[0m\u001b[1;33m,\u001b[0m \u001b[0mdoc_topic_dist\u001b[0m\u001b[1;33m)\u001b[0m\u001b[1;33m,\u001b[0m \u001b[0mkwargs\u001b[0m\u001b[1;33m)\u001b[0m\u001b[1;33m\u001b[0m\u001b[1;33m\u001b[0m\u001b[0m\n\u001b[1;32m--> 119\u001b[1;33m     \u001b[1;32mreturn\u001b[0m \u001b[0mvis_prepare\u001b[0m\u001b[1;33m(\u001b[0m\u001b[1;33m**\u001b[0m\u001b[0mopts\u001b[0m\u001b[1;33m)\u001b[0m\u001b[1;33m\u001b[0m\u001b[1;33m\u001b[0m\u001b[0m\n\u001b[0m",
      "\u001b[1;32m~\\Anaconda3\\lib\\site-packages\\pyLDAvis\\_prepare.py\u001b[0m in \u001b[0;36mprepare\u001b[1;34m(topic_term_dists, doc_topic_dists, doc_lengths, vocab, term_frequency, R, lambda_step, mds, n_jobs, plot_opts, sort_topics)\u001b[0m\n\u001b[0;32m    396\u001b[0m    \u001b[0mterm_frequency\u001b[0m \u001b[1;33m=\u001b[0m \u001b[0mnp\u001b[0m\u001b[1;33m.\u001b[0m\u001b[0msum\u001b[0m\u001b[1;33m(\u001b[0m\u001b[0mterm_topic_freq\u001b[0m\u001b[1;33m,\u001b[0m \u001b[0maxis\u001b[0m\u001b[1;33m=\u001b[0m\u001b[1;36m0\u001b[0m\u001b[1;33m)\u001b[0m\u001b[1;33m\u001b[0m\u001b[1;33m\u001b[0m\u001b[0m\n\u001b[0;32m    397\u001b[0m \u001b[1;33m\u001b[0m\u001b[0m\n\u001b[1;32m--> 398\u001b[1;33m    \u001b[0mtopic_info\u001b[0m         \u001b[1;33m=\u001b[0m \u001b[0m_topic_info\u001b[0m\u001b[1;33m(\u001b[0m\u001b[0mtopic_term_dists\u001b[0m\u001b[1;33m,\u001b[0m \u001b[0mtopic_proportion\u001b[0m\u001b[1;33m,\u001b[0m \u001b[0mterm_frequency\u001b[0m\u001b[1;33m,\u001b[0m \u001b[0mterm_topic_freq\u001b[0m\u001b[1;33m,\u001b[0m \u001b[0mvocab\u001b[0m\u001b[1;33m,\u001b[0m \u001b[0mlambda_step\u001b[0m\u001b[1;33m,\u001b[0m \u001b[0mR\u001b[0m\u001b[1;33m,\u001b[0m \u001b[0mn_jobs\u001b[0m\u001b[1;33m)\u001b[0m\u001b[1;33m\u001b[0m\u001b[1;33m\u001b[0m\u001b[0m\n\u001b[0m\u001b[0;32m    399\u001b[0m    \u001b[0mtoken_table\u001b[0m        \u001b[1;33m=\u001b[0m \u001b[0m_token_table\u001b[0m\u001b[1;33m(\u001b[0m\u001b[0mtopic_info\u001b[0m\u001b[1;33m,\u001b[0m \u001b[0mterm_topic_freq\u001b[0m\u001b[1;33m,\u001b[0m \u001b[0mvocab\u001b[0m\u001b[1;33m,\u001b[0m \u001b[0mterm_frequency\u001b[0m\u001b[1;33m)\u001b[0m\u001b[1;33m\u001b[0m\u001b[1;33m\u001b[0m\u001b[0m\n\u001b[0;32m    400\u001b[0m    \u001b[0mtopic_coordinates\u001b[0m \u001b[1;33m=\u001b[0m \u001b[0m_topic_coordinates\u001b[0m\u001b[1;33m(\u001b[0m\u001b[0mmds\u001b[0m\u001b[1;33m,\u001b[0m \u001b[0mtopic_term_dists\u001b[0m\u001b[1;33m,\u001b[0m \u001b[0mtopic_proportion\u001b[0m\u001b[1;33m)\u001b[0m\u001b[1;33m\u001b[0m\u001b[1;33m\u001b[0m\u001b[0m\n",
      "\u001b[1;32m~\\Anaconda3\\lib\\site-packages\\pyLDAvis\\_prepare.py\u001b[0m in \u001b[0;36m_topic_info\u001b[1;34m(topic_term_dists, topic_proportion, term_frequency, term_topic_freq, vocab, lambda_step, R, n_jobs)\u001b[0m\n\u001b[0;32m    253\u001b[0m \u001b[1;33m\u001b[0m\u001b[0m\n\u001b[0;32m    254\u001b[0m    top_terms = pd.concat(Parallel(n_jobs=n_jobs)(delayed(_find_relevance_chunks)(log_ttd, log_lift, R, ls) \\\n\u001b[1;32m--> 255\u001b[1;33m                                                  for ls in _job_chunks(lambda_seq, n_jobs)))\n\u001b[0m\u001b[0;32m    256\u001b[0m    \u001b[0mtopic_dfs\u001b[0m \u001b[1;33m=\u001b[0m \u001b[0mmap\u001b[0m\u001b[1;33m(\u001b[0m\u001b[0mtopic_top_term_df\u001b[0m\u001b[1;33m,\u001b[0m \u001b[0menumerate\u001b[0m\u001b[1;33m(\u001b[0m\u001b[0mtop_terms\u001b[0m\u001b[1;33m.\u001b[0m\u001b[0mT\u001b[0m\u001b[1;33m.\u001b[0m\u001b[0miterrows\u001b[0m\u001b[1;33m(\u001b[0m\u001b[1;33m)\u001b[0m\u001b[1;33m,\u001b[0m \u001b[1;36m1\u001b[0m\u001b[1;33m)\u001b[0m\u001b[1;33m)\u001b[0m\u001b[1;33m\u001b[0m\u001b[1;33m\u001b[0m\u001b[0m\n\u001b[0;32m    257\u001b[0m    \u001b[1;32mreturn\u001b[0m \u001b[0mpd\u001b[0m\u001b[1;33m.\u001b[0m\u001b[0mconcat\u001b[0m\u001b[1;33m(\u001b[0m\u001b[1;33m[\u001b[0m\u001b[0mdefault_term_info\u001b[0m\u001b[1;33m]\u001b[0m \u001b[1;33m+\u001b[0m \u001b[0mlist\u001b[0m\u001b[1;33m(\u001b[0m\u001b[0mtopic_dfs\u001b[0m\u001b[1;33m)\u001b[0m\u001b[1;33m)\u001b[0m\u001b[1;33m\u001b[0m\u001b[1;33m\u001b[0m\u001b[0m\n",
      "\u001b[1;32m~\\Anaconda3\\lib\\site-packages\\joblib\\parallel.py\u001b[0m in \u001b[0;36m__call__\u001b[1;34m(self, iterable)\u001b[0m\n\u001b[0;32m   1015\u001b[0m \u001b[1;33m\u001b[0m\u001b[0m\n\u001b[0;32m   1016\u001b[0m             \u001b[1;32mwith\u001b[0m \u001b[0mself\u001b[0m\u001b[1;33m.\u001b[0m\u001b[0m_backend\u001b[0m\u001b[1;33m.\u001b[0m\u001b[0mretrieval_context\u001b[0m\u001b[1;33m(\u001b[0m\u001b[1;33m)\u001b[0m\u001b[1;33m:\u001b[0m\u001b[1;33m\u001b[0m\u001b[1;33m\u001b[0m\u001b[0m\n\u001b[1;32m-> 1017\u001b[1;33m                 \u001b[0mself\u001b[0m\u001b[1;33m.\u001b[0m\u001b[0mretrieve\u001b[0m\u001b[1;33m(\u001b[0m\u001b[1;33m)\u001b[0m\u001b[1;33m\u001b[0m\u001b[1;33m\u001b[0m\u001b[0m\n\u001b[0m\u001b[0;32m   1018\u001b[0m             \u001b[1;31m# Make sure that we get a last message telling us we are done\u001b[0m\u001b[1;33m\u001b[0m\u001b[1;33m\u001b[0m\u001b[1;33m\u001b[0m\u001b[0m\n\u001b[0;32m   1019\u001b[0m             \u001b[0melapsed_time\u001b[0m \u001b[1;33m=\u001b[0m \u001b[0mtime\u001b[0m\u001b[1;33m.\u001b[0m\u001b[0mtime\u001b[0m\u001b[1;33m(\u001b[0m\u001b[1;33m)\u001b[0m \u001b[1;33m-\u001b[0m \u001b[0mself\u001b[0m\u001b[1;33m.\u001b[0m\u001b[0m_start_time\u001b[0m\u001b[1;33m\u001b[0m\u001b[1;33m\u001b[0m\u001b[0m\n",
      "\u001b[1;32m~\\Anaconda3\\lib\\site-packages\\joblib\\parallel.py\u001b[0m in \u001b[0;36mretrieve\u001b[1;34m(self)\u001b[0m\n\u001b[0;32m    907\u001b[0m             \u001b[1;32mtry\u001b[0m\u001b[1;33m:\u001b[0m\u001b[1;33m\u001b[0m\u001b[1;33m\u001b[0m\u001b[0m\n\u001b[0;32m    908\u001b[0m                 \u001b[1;32mif\u001b[0m \u001b[0mgetattr\u001b[0m\u001b[1;33m(\u001b[0m\u001b[0mself\u001b[0m\u001b[1;33m.\u001b[0m\u001b[0m_backend\u001b[0m\u001b[1;33m,\u001b[0m \u001b[1;34m'supports_timeout'\u001b[0m\u001b[1;33m,\u001b[0m \u001b[1;32mFalse\u001b[0m\u001b[1;33m)\u001b[0m\u001b[1;33m:\u001b[0m\u001b[1;33m\u001b[0m\u001b[1;33m\u001b[0m\u001b[0m\n\u001b[1;32m--> 909\u001b[1;33m                     \u001b[0mself\u001b[0m\u001b[1;33m.\u001b[0m\u001b[0m_output\u001b[0m\u001b[1;33m.\u001b[0m\u001b[0mextend\u001b[0m\u001b[1;33m(\u001b[0m\u001b[0mjob\u001b[0m\u001b[1;33m.\u001b[0m\u001b[0mget\u001b[0m\u001b[1;33m(\u001b[0m\u001b[0mtimeout\u001b[0m\u001b[1;33m=\u001b[0m\u001b[0mself\u001b[0m\u001b[1;33m.\u001b[0m\u001b[0mtimeout\u001b[0m\u001b[1;33m)\u001b[0m\u001b[1;33m)\u001b[0m\u001b[1;33m\u001b[0m\u001b[1;33m\u001b[0m\u001b[0m\n\u001b[0m\u001b[0;32m    910\u001b[0m                 \u001b[1;32melse\u001b[0m\u001b[1;33m:\u001b[0m\u001b[1;33m\u001b[0m\u001b[1;33m\u001b[0m\u001b[0m\n\u001b[0;32m    911\u001b[0m                     \u001b[0mself\u001b[0m\u001b[1;33m.\u001b[0m\u001b[0m_output\u001b[0m\u001b[1;33m.\u001b[0m\u001b[0mextend\u001b[0m\u001b[1;33m(\u001b[0m\u001b[0mjob\u001b[0m\u001b[1;33m.\u001b[0m\u001b[0mget\u001b[0m\u001b[1;33m(\u001b[0m\u001b[1;33m)\u001b[0m\u001b[1;33m)\u001b[0m\u001b[1;33m\u001b[0m\u001b[1;33m\u001b[0m\u001b[0m\n",
      "\u001b[1;32m~\\Anaconda3\\lib\\site-packages\\joblib\\_parallel_backends.py\u001b[0m in \u001b[0;36mwrap_future_result\u001b[1;34m(future, timeout)\u001b[0m\n\u001b[0;32m    560\u001b[0m         AsyncResults.get from multiprocessing.\"\"\"\n\u001b[0;32m    561\u001b[0m         \u001b[1;32mtry\u001b[0m\u001b[1;33m:\u001b[0m\u001b[1;33m\u001b[0m\u001b[1;33m\u001b[0m\u001b[0m\n\u001b[1;32m--> 562\u001b[1;33m             \u001b[1;32mreturn\u001b[0m \u001b[0mfuture\u001b[0m\u001b[1;33m.\u001b[0m\u001b[0mresult\u001b[0m\u001b[1;33m(\u001b[0m\u001b[0mtimeout\u001b[0m\u001b[1;33m=\u001b[0m\u001b[0mtimeout\u001b[0m\u001b[1;33m)\u001b[0m\u001b[1;33m\u001b[0m\u001b[1;33m\u001b[0m\u001b[0m\n\u001b[0m\u001b[0;32m    563\u001b[0m         \u001b[1;32mexcept\u001b[0m \u001b[0mLokyTimeoutError\u001b[0m\u001b[1;33m:\u001b[0m\u001b[1;33m\u001b[0m\u001b[1;33m\u001b[0m\u001b[0m\n\u001b[0;32m    564\u001b[0m             \u001b[1;32mraise\u001b[0m \u001b[0mTimeoutError\u001b[0m\u001b[1;33m(\u001b[0m\u001b[1;33m)\u001b[0m\u001b[1;33m\u001b[0m\u001b[1;33m\u001b[0m\u001b[0m\n",
      "\u001b[1;32m~\\Anaconda3\\lib\\concurrent\\futures\\_base.py\u001b[0m in \u001b[0;36mresult\u001b[1;34m(self, timeout)\u001b[0m\n\u001b[0;32m    430\u001b[0m                 \u001b[1;32mraise\u001b[0m \u001b[0mCancelledError\u001b[0m\u001b[1;33m(\u001b[0m\u001b[1;33m)\u001b[0m\u001b[1;33m\u001b[0m\u001b[1;33m\u001b[0m\u001b[0m\n\u001b[0;32m    431\u001b[0m             \u001b[1;32melif\u001b[0m \u001b[0mself\u001b[0m\u001b[1;33m.\u001b[0m\u001b[0m_state\u001b[0m \u001b[1;33m==\u001b[0m \u001b[0mFINISHED\u001b[0m\u001b[1;33m:\u001b[0m\u001b[1;33m\u001b[0m\u001b[1;33m\u001b[0m\u001b[0m\n\u001b[1;32m--> 432\u001b[1;33m                 \u001b[1;32mreturn\u001b[0m \u001b[0mself\u001b[0m\u001b[1;33m.\u001b[0m\u001b[0m__get_result\u001b[0m\u001b[1;33m(\u001b[0m\u001b[1;33m)\u001b[0m\u001b[1;33m\u001b[0m\u001b[1;33m\u001b[0m\u001b[0m\n\u001b[0m\u001b[0;32m    433\u001b[0m             \u001b[1;32melse\u001b[0m\u001b[1;33m:\u001b[0m\u001b[1;33m\u001b[0m\u001b[1;33m\u001b[0m\u001b[0m\n\u001b[0;32m    434\u001b[0m                 \u001b[1;32mraise\u001b[0m \u001b[0mTimeoutError\u001b[0m\u001b[1;33m(\u001b[0m\u001b[1;33m)\u001b[0m\u001b[1;33m\u001b[0m\u001b[1;33m\u001b[0m\u001b[0m\n",
      "\u001b[1;32m~\\Anaconda3\\lib\\concurrent\\futures\\_base.py\u001b[0m in \u001b[0;36m__get_result\u001b[1;34m(self)\u001b[0m\n\u001b[0;32m    382\u001b[0m     \u001b[1;32mdef\u001b[0m \u001b[0m__get_result\u001b[0m\u001b[1;33m(\u001b[0m\u001b[0mself\u001b[0m\u001b[1;33m)\u001b[0m\u001b[1;33m:\u001b[0m\u001b[1;33m\u001b[0m\u001b[1;33m\u001b[0m\u001b[0m\n\u001b[0;32m    383\u001b[0m         \u001b[1;32mif\u001b[0m \u001b[0mself\u001b[0m\u001b[1;33m.\u001b[0m\u001b[0m_exception\u001b[0m\u001b[1;33m:\u001b[0m\u001b[1;33m\u001b[0m\u001b[1;33m\u001b[0m\u001b[0m\n\u001b[1;32m--> 384\u001b[1;33m             \u001b[1;32mraise\u001b[0m \u001b[0mself\u001b[0m\u001b[1;33m.\u001b[0m\u001b[0m_exception\u001b[0m\u001b[1;33m\u001b[0m\u001b[1;33m\u001b[0m\u001b[0m\n\u001b[0m\u001b[0;32m    385\u001b[0m         \u001b[1;32melse\u001b[0m\u001b[1;33m:\u001b[0m\u001b[1;33m\u001b[0m\u001b[1;33m\u001b[0m\u001b[0m\n\u001b[0;32m    386\u001b[0m             \u001b[1;32mreturn\u001b[0m \u001b[0mself\u001b[0m\u001b[1;33m.\u001b[0m\u001b[0m_result\u001b[0m\u001b[1;33m\u001b[0m\u001b[1;33m\u001b[0m\u001b[0m\n",
      "\u001b[1;31mMemoryError\u001b[0m: "
     ]
    }
   ],
   "source": [
    "#visualize the lda model with 11 topics\n",
    "import pyLDAvis.gensim\n",
    "import pickle\n",
    "import pyLDAvis\n",
    "\n",
    "pyLDAvis.enable_notebook()\n",
    "pyLDAvis.gensim.prepare(ldamodel_final, corpus, dictionary)"
   ]
  },
  {
   "cell_type": "markdown",
   "metadata": {},
   "source": [
    "As we can see above, there are many overlapping and large bubbles in the visualization. This could be a sign of less than optimal topic modelling. Let's try five topics, which was comparable in coherence score. "
   ]
  },
  {
   "cell_type": "code",
   "execution_count": null,
   "metadata": {},
   "outputs": [],
   "source": [
    "#fit the model with 5 topics\n",
    "NUM_TOPICS = 5\n",
    "ldamodel_final2 = LdaModel(corpus, \n",
    "                    num_topics = NUM_TOPICS, \n",
    "                    id2word=dictionary, passes=10,\n",
    "                   random_state=13) "
   ]
  },
  {
   "cell_type": "code",
   "execution_count": 9,
   "metadata": {},
   "outputs": [
    {
     "data": {
      "text/plain": [
       "[(0,\n",
       "  '0.017*\"sweet\" + 0.013*\"head\" + 0.013*\"tast\" + 0.012*\"alcohol\" + 0.012*\"flavor\" + 0.012*\"like\" + 0.012*\"fruit\" + 0.009*\"carbon\" + 0.009*\"nice\" + 0.009*\"pour\"'),\n",
       " (1,\n",
       "  '0.018*\"tast\" + 0.017*\"light\" + 0.016*\"head\" + 0.013*\"flavor\" + 0.012*\"like\" + 0.011*\"carbon\" + 0.011*\"smell\" + 0.011*\"sweet\" + 0.011*\"good\" + 0.011*\"nice\"'),\n",
       " (2,\n",
       "  '0.022*\"chocol\" + 0.020*\"dark\" + 0.018*\"coffe\" + 0.016*\"head\" + 0.014*\"malt\" + 0.014*\"tast\" + 0.014*\"roast\" + 0.013*\"flavor\" + 0.012*\"sweet\" + 0.012*\"black\"'),\n",
       " (3,\n",
       "  '0.034*\"hop\" + 0.024*\"malt\" + 0.018*\"head\" + 0.016*\"nice\" + 0.016*\"tast\" + 0.015*\"sweet\" + 0.012*\"caramel\" + 0.012*\"good\" + 0.012*\"bitter\" + 0.012*\"flavor\"'),\n",
       " (4,\n",
       "  '0.031*\"hop\" + 0.016*\"bitter\" + 0.015*\"ipa\" + 0.014*\"citru\" + 0.014*\"head\" + 0.013*\"nice\" + 0.013*\"malt\" + 0.013*\"tast\" + 0.011*\"good\" + 0.011*\"flavor\"')]"
      ]
     },
     "execution_count": 9,
     "metadata": {},
     "output_type": "execute_result"
    }
   ],
   "source": [
    "ldamodel_final2.print_topics(num_words=10)"
   ]
  },
  {
   "cell_type": "markdown",
   "metadata": {},
   "source": [
    "- 0: Seasonal or flavored beers\n",
    "- 1: Light Lagers and ales\n",
    "- 2: Dark, roasty ales\n",
    "- 3: Hoppy ales\n",
    "- 4: IPA's"
   ]
  },
  {
   "cell_type": "code",
   "execution_count": 11,
   "metadata": {},
   "outputs": [
    {
     "name": "stdout",
     "output_type": "stream",
     "text": [
      "Perplexity:  -6.800997492964288\n"
     ]
    }
   ],
   "source": [
    "print('Perplexity: ', ldamodel_final2.log_perplexity(corpus))"
   ]
  },
  {
   "cell_type": "code",
   "execution_count": null,
   "metadata": {},
   "outputs": [],
   "source": [
    "#visualize the lda model\n",
    "pyLDAvis.enable_notebook()\n",
    "pyLDAvis.gensim.prepare(ldamodel_final2, corpus, dictionary)"
   ]
  },
  {
   "cell_type": "markdown",
   "metadata": {},
   "source": [
    "Notice the space between the bubbles now. The topics bubbles are fairly large in size and have good separation, meaning our modelling with 5 topics could be favorable over 11 topics. Let's run with this model. "
   ]
  },
  {
   "cell_type": "code",
   "execution_count": 16,
   "metadata": {},
   "outputs": [
    {
     "data": {
      "text/html": [
       "<div>\n",
       "<style scoped>\n",
       "    .dataframe tbody tr th:only-of-type {\n",
       "        vertical-align: middle;\n",
       "    }\n",
       "\n",
       "    .dataframe tbody tr th {\n",
       "        vertical-align: top;\n",
       "    }\n",
       "\n",
       "    .dataframe thead th {\n",
       "        text-align: right;\n",
       "    }\n",
       "</style>\n",
       "<table border=\"1\" class=\"dataframe\">\n",
       "  <thead>\n",
       "    <tr style=\"text-align: right;\">\n",
       "      <th></th>\n",
       "      <th>Document_No</th>\n",
       "      <th>Dominant_Topic</th>\n",
       "      <th>Topic_Perc_Contrib</th>\n",
       "      <th>Keywords</th>\n",
       "      <th>Text</th>\n",
       "    </tr>\n",
       "  </thead>\n",
       "  <tbody>\n",
       "    <tr>\n",
       "      <th>0</th>\n",
       "      <td>0</td>\n",
       "      <td>3.0</td>\n",
       "      <td>0.6034</td>\n",
       "      <td>hop, malt, head, nice, tast, sweet, caramel, g...</td>\n",
       "      <td>[favorit, pour, dark, golden, color, head, wai...</td>\n",
       "    </tr>\n",
       "    <tr>\n",
       "      <th>1</th>\n",
       "      <td>1</td>\n",
       "      <td>2.0</td>\n",
       "      <td>0.5519</td>\n",
       "      <td>chocol, dark, coffe, head, malt, tast, roast, ...</td>\n",
       "      <td>[fan, dark, flavor, al, met, mark, start, crea...</td>\n",
       "    </tr>\n",
       "    <tr>\n",
       "      <th>2</th>\n",
       "      <td>2</td>\n",
       "      <td>1.0</td>\n",
       "      <td>0.6940</td>\n",
       "      <td>tast, light, head, flavor, like, carbon, smell...</td>\n",
       "      <td>[purpl, virtual, head, second, finger, head, d...</td>\n",
       "    </tr>\n",
       "    <tr>\n",
       "      <th>3</th>\n",
       "      <td>3</td>\n",
       "      <td>0.0</td>\n",
       "      <td>0.6406</td>\n",
       "      <td>sweet, head, tast, alcohol, flavor, like, frui...</td>\n",
       "      <td>[brown, bottl, cork, cage, batch, bottl, accor...</td>\n",
       "    </tr>\n",
       "    <tr>\n",
       "      <th>4</th>\n",
       "      <td>4</td>\n",
       "      <td>1.0</td>\n",
       "      <td>0.9955</td>\n",
       "      <td>tast, light, head, flavor, like, carbon, smell...</td>\n",
       "      <td>[american, style, hefe, tast, delici, time, st...</td>\n",
       "    </tr>\n",
       "    <tr>\n",
       "      <th>5</th>\n",
       "      <td>5</td>\n",
       "      <td>3.0</td>\n",
       "      <td>0.5108</td>\n",
       "      <td>hop, malt, head, nice, tast, sweet, caramel, g...</td>\n",
       "      <td>[balanc, pale, al, market, food, pair, stake, ...</td>\n",
       "    </tr>\n",
       "    <tr>\n",
       "      <th>6</th>\n",
       "      <td>6</td>\n",
       "      <td>2.0</td>\n",
       "      <td>0.7764</td>\n",
       "      <td>chocol, dark, coffe, head, malt, tast, roast, ...</td>\n",
       "      <td>[pour, nearli, pitch, black, color, dark, choc...</td>\n",
       "    </tr>\n",
       "    <tr>\n",
       "      <th>7</th>\n",
       "      <td>7</td>\n",
       "      <td>2.0</td>\n",
       "      <td>0.9806</td>\n",
       "      <td>chocol, dark, coffe, head, malt, tast, roast, ...</td>\n",
       "      <td>[nice, size, head, beauti, lace, dark, opaqu, ...</td>\n",
       "    </tr>\n",
       "    <tr>\n",
       "      <th>8</th>\n",
       "      <td>8</td>\n",
       "      <td>1.0</td>\n",
       "      <td>0.4708</td>\n",
       "      <td>tast, light, head, flavor, like, carbon, smell...</td>\n",
       "      <td>[pour, hazi, brown, orang, medium, white, head...</td>\n",
       "    </tr>\n",
       "    <tr>\n",
       "      <th>9</th>\n",
       "      <td>9</td>\n",
       "      <td>1.0</td>\n",
       "      <td>0.9903</td>\n",
       "      <td>tast, light, head, flavor, like, carbon, smell...</td>\n",
       "      <td>[tast, appear, pale, hazi, gold, head, quickli...</td>\n",
       "    </tr>\n",
       "  </tbody>\n",
       "</table>\n",
       "</div>"
      ],
      "text/plain": [
       "   Document_No  Dominant_Topic  Topic_Perc_Contrib  \\\n",
       "0            0             3.0              0.6034   \n",
       "1            1             2.0              0.5519   \n",
       "2            2             1.0              0.6940   \n",
       "3            3             0.0              0.6406   \n",
       "4            4             1.0              0.9955   \n",
       "5            5             3.0              0.5108   \n",
       "6            6             2.0              0.7764   \n",
       "7            7             2.0              0.9806   \n",
       "8            8             1.0              0.4708   \n",
       "9            9             1.0              0.9903   \n",
       "\n",
       "                                            Keywords  \\\n",
       "0  hop, malt, head, nice, tast, sweet, caramel, g...   \n",
       "1  chocol, dark, coffe, head, malt, tast, roast, ...   \n",
       "2  tast, light, head, flavor, like, carbon, smell...   \n",
       "3  sweet, head, tast, alcohol, flavor, like, frui...   \n",
       "4  tast, light, head, flavor, like, carbon, smell...   \n",
       "5  hop, malt, head, nice, tast, sweet, caramel, g...   \n",
       "6  chocol, dark, coffe, head, malt, tast, roast, ...   \n",
       "7  chocol, dark, coffe, head, malt, tast, roast, ...   \n",
       "8  tast, light, head, flavor, like, carbon, smell...   \n",
       "9  tast, light, head, flavor, like, carbon, smell...   \n",
       "\n",
       "                                                Text  \n",
       "0  [favorit, pour, dark, golden, color, head, wai...  \n",
       "1  [fan, dark, flavor, al, met, mark, start, crea...  \n",
       "2  [purpl, virtual, head, second, finger, head, d...  \n",
       "3  [brown, bottl, cork, cage, batch, bottl, accor...  \n",
       "4  [american, style, hefe, tast, delici, time, st...  \n",
       "5  [balanc, pale, al, market, food, pair, stake, ...  \n",
       "6  [pour, nearli, pitch, black, color, dark, choc...  \n",
       "7  [nice, size, head, beauti, lace, dark, opaqu, ...  \n",
       "8  [pour, hazi, brown, orang, medium, white, head...  \n",
       "9  [tast, appear, pale, hazi, gold, head, quickli...  "
      ]
     },
     "execution_count": 16,
     "metadata": {},
     "output_type": "execute_result"
    }
   ],
   "source": [
    "#create function to pull out desired info from lda model\n",
    "def format_topics_sentences(ldamodel=ldamodel_final2, corpus=corpus, texts=us_reviews):\n",
    "    # Init output\n",
    "    sent_topics_df = pd.DataFrame()\n",
    "\n",
    "    # Get main topic in each document\n",
    "    for i, row in enumerate(ldamodel[corpus]):\n",
    "        row = sorted(row, key=lambda x: (x[1]), reverse=True)\n",
    "        # Get the Dominant topic, Perc Contribution and Keywords for each document\n",
    "        for j, (topic_num, prop_topic) in enumerate(row):\n",
    "            if j == 0:  # => dominant topic\n",
    "                wp = ldamodel.show_topic(topic_num)\n",
    "                topic_keywords = \", \".join([word for word, prop in wp])\n",
    "                sent_topics_df = sent_topics_df.append(pd.Series([int(topic_num), round(prop_topic,4), topic_keywords]), ignore_index=True)\n",
    "            else:\n",
    "                break\n",
    "    sent_topics_df.columns = ['Dominant_Topic', 'Perc_Contribution', 'Topic_Keywords']\n",
    "\n",
    "    # Add original text to the end of the output\n",
    "    contents = pd.Series(texts)\n",
    "    sent_topics_df = pd.concat([sent_topics_df, contents], axis=1)\n",
    "    return(sent_topics_df)\n",
    "\n",
    "\n",
    "df_topic_sents_keywords = format_topics_sentences(ldamodel=ldamodel_final2, corpus=corpus, texts=us_reviews)\n",
    "\n",
    "# Format\n",
    "df_dominant_topic = df_topic_sents_keywords.reset_index()\n",
    "df_dominant_topic.columns = ['Document_No', 'Dominant_Topic', 'Topic_Perc_Contrib', 'Keywords', 'Text']\n",
    "\n",
    "# Show\n",
    "df_dominant_topic.head(10)"
   ]
  },
  {
   "cell_type": "code",
   "execution_count": 17,
   "metadata": {},
   "outputs": [
    {
     "data": {
      "text/plain": [
       "(1630, 5)"
      ]
     },
     "execution_count": 17,
     "metadata": {},
     "output_type": "execute_result"
    }
   ],
   "source": [
    "df_dominant_topic.shape"
   ]
  },
  {
   "cell_type": "code",
   "execution_count": 21,
   "metadata": {},
   "outputs": [
    {
     "data": {
      "text/html": [
       "<div>\n",
       "<style scoped>\n",
       "    .dataframe tbody tr th:only-of-type {\n",
       "        vertical-align: middle;\n",
       "    }\n",
       "\n",
       "    .dataframe tbody tr th {\n",
       "        vertical-align: top;\n",
       "    }\n",
       "\n",
       "    .dataframe thead th {\n",
       "        text-align: right;\n",
       "    }\n",
       "</style>\n",
       "<table border=\"1\" class=\"dataframe\">\n",
       "  <thead>\n",
       "    <tr style=\"text-align: right;\">\n",
       "      <th></th>\n",
       "      <th>Document_No</th>\n",
       "      <th>Dominant_Topic</th>\n",
       "      <th>Topic_Perc_Contrib</th>\n",
       "      <th>Keywords</th>\n",
       "      <th>Text</th>\n",
       "      <th>Unnamed: 0</th>\n",
       "      <th>beer_id</th>\n",
       "      <th>brewery_name</th>\n",
       "      <th>beer_name</th>\n",
       "      <th>lemmatized_text</th>\n",
       "    </tr>\n",
       "  </thead>\n",
       "  <tbody>\n",
       "    <tr>\n",
       "      <th>0</th>\n",
       "      <td>0</td>\n",
       "      <td>3.0</td>\n",
       "      <td>0.6034</td>\n",
       "      <td>hop, malt, head, nice, tast, sweet, caramel, g...</td>\n",
       "      <td>[favorit, pour, dark, golden, color, head, wai...</td>\n",
       "      <td>0</td>\n",
       "      <td>5</td>\n",
       "      <td>Abita Brewing Co.</td>\n",
       "      <td>Amber</td>\n",
       "      <td>becoming favorite mine pours dark golden color...</td>\n",
       "    </tr>\n",
       "    <tr>\n",
       "      <th>1</th>\n",
       "      <td>1</td>\n",
       "      <td>2.0</td>\n",
       "      <td>0.5519</td>\n",
       "      <td>chocol, dark, coffe, head, malt, tast, roast, ...</td>\n",
       "      <td>[fan, dark, flavor, al, met, mark, start, crea...</td>\n",
       "      <td>1</td>\n",
       "      <td>6</td>\n",
       "      <td>Abita Brewing Co.</td>\n",
       "      <td>Turbodog</td>\n",
       "      <td>fan dark flavorful ale met mark well started c...</td>\n",
       "    </tr>\n",
       "    <tr>\n",
       "      <th>2</th>\n",
       "      <td>2</td>\n",
       "      <td>1.0</td>\n",
       "      <td>0.6940</td>\n",
       "      <td>tast, light, head, flavor, like, carbon, smell...</td>\n",
       "      <td>[purpl, virtual, head, second, finger, head, d...</td>\n",
       "      <td>2</td>\n",
       "      <td>7</td>\n",
       "      <td>Abita Brewing Co.</td>\n",
       "      <td>Purple Haze</td>\n",
       "      <td>purple virtually head second finger head dissi...</td>\n",
       "    </tr>\n",
       "    <tr>\n",
       "      <th>3</th>\n",
       "      <td>3</td>\n",
       "      <td>0.0</td>\n",
       "      <td>0.6406</td>\n",
       "      <td>sweet, head, tast, alcohol, flavor, like, frui...</td>\n",
       "      <td>[brown, bottl, cork, cage, batch, bottl, accor...</td>\n",
       "      <td>3</td>\n",
       "      <td>10</td>\n",
       "      <td>Allagash Brewing Company</td>\n",
       "      <td>Dubbel Ale</td>\n",
       "      <td>brown ml bottle corked caged batch bottled acc...</td>\n",
       "    </tr>\n",
       "    <tr>\n",
       "      <th>4</th>\n",
       "      <td>4</td>\n",
       "      <td>1.0</td>\n",
       "      <td>0.9955</td>\n",
       "      <td>tast, light, head, flavor, like, carbon, smell...</td>\n",
       "      <td>[american, style, hefe, tast, delici, time, st...</td>\n",
       "      <td>4</td>\n",
       "      <td>17</td>\n",
       "      <td>Widmer Brothers Brewing Company</td>\n",
       "      <td>Widmer Hefeweizen</td>\n",
       "      <td>american style hefe taste delicious every time...</td>\n",
       "    </tr>\n",
       "    <tr>\n",
       "      <th>5</th>\n",
       "      <td>5</td>\n",
       "      <td>3.0</td>\n",
       "      <td>0.5108</td>\n",
       "      <td>hop, malt, head, nice, tast, sweet, caramel, g...</td>\n",
       "      <td>[balanc, pale, al, market, food, pair, stake, ...</td>\n",
       "      <td>5</td>\n",
       "      <td>39</td>\n",
       "      <td>3 Floyds Brewing Co.</td>\n",
       "      <td>Alpha King</td>\n",
       "      <td>well balanced pale ale market made go food pai...</td>\n",
       "    </tr>\n",
       "    <tr>\n",
       "      <th>6</th>\n",
       "      <td>6</td>\n",
       "      <td>2.0</td>\n",
       "      <td>0.7764</td>\n",
       "      <td>chocol, dark, coffe, head, malt, tast, roast, ...</td>\n",
       "      <td>[pour, nearli, pitch, black, color, dark, choc...</td>\n",
       "      <td>6</td>\n",
       "      <td>54</td>\n",
       "      <td>Redhook Ale Brewery</td>\n",
       "      <td>Redhook Blackhook Porter</td>\n",
       "      <td>pours nearly pitch black color dark chocolatey...</td>\n",
       "    </tr>\n",
       "    <tr>\n",
       "      <th>7</th>\n",
       "      <td>7</td>\n",
       "      <td>2.0</td>\n",
       "      <td>0.9806</td>\n",
       "      <td>chocol, dark, coffe, head, malt, tast, roast, ...</td>\n",
       "      <td>[nice, size, head, beauti, lace, dark, opaqu, ...</td>\n",
       "      <td>7</td>\n",
       "      <td>55</td>\n",
       "      <td>Redhook Ale Brewery</td>\n",
       "      <td>Redhook Double Black Stout</td>\n",
       "      <td>nice sized head really beautiful lacing dark q...</td>\n",
       "    </tr>\n",
       "    <tr>\n",
       "      <th>8</th>\n",
       "      <td>8</td>\n",
       "      <td>1.0</td>\n",
       "      <td>0.4708</td>\n",
       "      <td>tast, light, head, flavor, like, carbon, smell...</td>\n",
       "      <td>[pour, hazi, brown, orang, medium, white, head...</td>\n",
       "      <td>8</td>\n",
       "      <td>58</td>\n",
       "      <td>Allagash Brewing Company</td>\n",
       "      <td>Grand Cru</td>\n",
       "      <td>pours hazy brown orange medium thick white hea...</td>\n",
       "    </tr>\n",
       "    <tr>\n",
       "      <th>9</th>\n",
       "      <td>9</td>\n",
       "      <td>1.0</td>\n",
       "      <td>0.9903</td>\n",
       "      <td>tast, light, head, flavor, like, carbon, smell...</td>\n",
       "      <td>[tast, appear, pale, hazi, gold, head, quickli...</td>\n",
       "      <td>9</td>\n",
       "      <td>59</td>\n",
       "      <td>Allagash Brewing Company</td>\n",
       "      <td>White</td>\n",
       "      <td>tasted appearance pale hazy gold thin head qui...</td>\n",
       "    </tr>\n",
       "  </tbody>\n",
       "</table>\n",
       "</div>"
      ],
      "text/plain": [
       "   Document_No  Dominant_Topic  Topic_Perc_Contrib  \\\n",
       "0            0             3.0              0.6034   \n",
       "1            1             2.0              0.5519   \n",
       "2            2             1.0              0.6940   \n",
       "3            3             0.0              0.6406   \n",
       "4            4             1.0              0.9955   \n",
       "5            5             3.0              0.5108   \n",
       "6            6             2.0              0.7764   \n",
       "7            7             2.0              0.9806   \n",
       "8            8             1.0              0.4708   \n",
       "9            9             1.0              0.9903   \n",
       "\n",
       "                                            Keywords  \\\n",
       "0  hop, malt, head, nice, tast, sweet, caramel, g...   \n",
       "1  chocol, dark, coffe, head, malt, tast, roast, ...   \n",
       "2  tast, light, head, flavor, like, carbon, smell...   \n",
       "3  sweet, head, tast, alcohol, flavor, like, frui...   \n",
       "4  tast, light, head, flavor, like, carbon, smell...   \n",
       "5  hop, malt, head, nice, tast, sweet, caramel, g...   \n",
       "6  chocol, dark, coffe, head, malt, tast, roast, ...   \n",
       "7  chocol, dark, coffe, head, malt, tast, roast, ...   \n",
       "8  tast, light, head, flavor, like, carbon, smell...   \n",
       "9  tast, light, head, flavor, like, carbon, smell...   \n",
       "\n",
       "                                                Text  Unnamed: 0  beer_id  \\\n",
       "0  [favorit, pour, dark, golden, color, head, wai...           0        5   \n",
       "1  [fan, dark, flavor, al, met, mark, start, crea...           1        6   \n",
       "2  [purpl, virtual, head, second, finger, head, d...           2        7   \n",
       "3  [brown, bottl, cork, cage, batch, bottl, accor...           3       10   \n",
       "4  [american, style, hefe, tast, delici, time, st...           4       17   \n",
       "5  [balanc, pale, al, market, food, pair, stake, ...           5       39   \n",
       "6  [pour, nearli, pitch, black, color, dark, choc...           6       54   \n",
       "7  [nice, size, head, beauti, lace, dark, opaqu, ...           7       55   \n",
       "8  [pour, hazi, brown, orang, medium, white, head...           8       58   \n",
       "9  [tast, appear, pale, hazi, gold, head, quickli...           9       59   \n",
       "\n",
       "                      brewery_name                   beer_name  \\\n",
       "0                Abita Brewing Co.                       Amber   \n",
       "1                Abita Brewing Co.                    Turbodog   \n",
       "2                Abita Brewing Co.                 Purple Haze   \n",
       "3         Allagash Brewing Company                  Dubbel Ale   \n",
       "4  Widmer Brothers Brewing Company           Widmer Hefeweizen   \n",
       "5             3 Floyds Brewing Co.                  Alpha King   \n",
       "6              Redhook Ale Brewery    Redhook Blackhook Porter   \n",
       "7              Redhook Ale Brewery  Redhook Double Black Stout   \n",
       "8         Allagash Brewing Company                   Grand Cru   \n",
       "9         Allagash Brewing Company                       White   \n",
       "\n",
       "                                     lemmatized_text  \n",
       "0  becoming favorite mine pours dark golden color...  \n",
       "1  fan dark flavorful ale met mark well started c...  \n",
       "2  purple virtually head second finger head dissi...  \n",
       "3  brown ml bottle corked caged batch bottled acc...  \n",
       "4  american style hefe taste delicious every time...  \n",
       "5  well balanced pale ale market made go food pai...  \n",
       "6  pours nearly pitch black color dark chocolatey...  \n",
       "7  nice sized head really beautiful lacing dark q...  \n",
       "8  pours hazy brown orange medium thick white hea...  \n",
       "9  tasted appearance pale hazy gold thin head qui...  "
      ]
     },
     "execution_count": 21,
     "metadata": {},
     "output_type": "execute_result"
    }
   ],
   "source": [
    "#concatenate the dominant topic df with the beer_200_text df\n",
    "beer_lda = pd.concat([df_dominant_topic, beer_200_text], axis=1)\n",
    "\n",
    "#preview the dataset\n",
    "beer_lda.head(10)"
   ]
  },
  {
   "cell_type": "code",
   "execution_count": 23,
   "metadata": {},
   "outputs": [],
   "source": [
    "beer_lda = beer_lda.drop(['Unnamed: 0'], axis=1)"
   ]
  },
  {
   "cell_type": "code",
   "execution_count": 24,
   "metadata": {},
   "outputs": [],
   "source": [
    "#save the dataset locally\n",
    "beer_lda.to_csv(r'F:\\Datasets\\beer_lda.csv')"
   ]
  },
  {
   "cell_type": "code",
   "execution_count": null,
   "metadata": {},
   "outputs": [],
   "source": []
  }
 ],
 "metadata": {
  "kernelspec": {
   "display_name": "Python 3",
   "language": "python",
   "name": "python3"
  },
  "language_info": {
   "codemirror_mode": {
    "name": "ipython",
    "version": 3
   },
   "file_extension": ".py",
   "mimetype": "text/x-python",
   "name": "python",
   "nbconvert_exporter": "python",
   "pygments_lexer": "ipython3",
   "version": "3.7.1"
  }
 },
 "nbformat": 4,
 "nbformat_minor": 2
}
